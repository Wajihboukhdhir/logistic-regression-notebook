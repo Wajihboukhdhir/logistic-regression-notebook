{
 "cells": [
  {
   "cell_type": "code",
   "execution_count": 23,
   "metadata": {},
   "outputs": [
    {
     "name": "stdout",
     "output_type": "stream",
     "text": [
      "   year          hname                aname  hgoals  agoals  hPossesion  \\\n",
      "0  2002  Faroe Islands             Scotland       2       2           0   \n",
      "1  2002         Norway              Denmark       2       2           0   \n",
      "2  2002        Armenia              Ukraine       2       2           0   \n",
      "3  2002         Russia  Republic of Ireland       4       2           0   \n",
      "4  2002         Cyprus               France       1       2           0   \n",
      "\n",
      "   aPossesion  hshotsOnTarget  ashotsOnTarget  hshots  ashots  hyellowCards  \\\n",
      "0           0               0               0       0       0             2   \n",
      "1           0               0               0       0       0             0   \n",
      "2           0               0               0       0       0             0   \n",
      "3           0               0               0       0       0             1   \n",
      "4           0               0               0       0       0             1   \n",
      "\n",
      "   ayellowCards  hredCards  aredCards  hfouls  afouls  hsaves  asaves  \n",
      "0             3          0          0       0       0       0       0  \n",
      "1             0          0          0       0       0       0       0  \n",
      "2             0          0          0       0       0       0       0  \n",
      "3             0          0          0       0       0       0       0  \n",
      "4             1          0          0       0       0       0       0  \n"
     ]
    }
   ],
   "source": [
    "import pandas as pd\n",
    "\n",
    "# Read the CSV file\n",
    "df = pd.read_csv('C:/Users/Wajih/Desktop/Projects Wajih/Logistic Regression/EuroAllMatchBoxData.csv')\n",
    "\n",
    "# Display the first few rows of the DataFrame\n",
    "print(df.head())"
   ]
  },
  {
   "cell_type": "markdown",
   "metadata": {},
   "source": [
    "We will select matches starting from 2004 (Since before that we did not have any data related to possession)"
   ]
  },
  {
   "cell_type": "code",
   "execution_count": 24,
   "metadata": {},
   "outputs": [
    {
     "data": {
      "text/plain": [
       "(1397, 19)"
      ]
     },
     "execution_count": 24,
     "metadata": {},
     "output_type": "execute_result"
    }
   ],
   "source": [
    "df.shape"
   ]
  },
  {
   "cell_type": "code",
   "execution_count": 25,
   "metadata": {},
   "outputs": [],
   "source": [
    "df_filtered = df[df['year'] >= 2004]\n"
   ]
  },
  {
   "cell_type": "code",
   "execution_count": 26,
   "metadata": {},
   "outputs": [
    {
     "data": {
      "text/plain": [
       "(1195, 19)"
      ]
     },
     "execution_count": 26,
     "metadata": {},
     "output_type": "execute_result"
    }
   ],
   "source": [
    "df_filtered.shape"
   ]
  },
  {
   "cell_type": "code",
   "execution_count": 27,
   "metadata": {},
   "outputs": [
    {
     "data": {
      "text/plain": [
       "Index(['year', 'hname', 'aname', 'hgoals', 'agoals', 'hPossesion',\n",
       "       'aPossesion', 'hshotsOnTarget', 'ashotsOnTarget', 'hshots', 'ashots',\n",
       "       'hyellowCards', 'ayellowCards', 'hredCards', 'aredCards', 'hfouls',\n",
       "       'afouls', 'hsaves', 'asaves'],\n",
       "      dtype='object')"
      ]
     },
     "execution_count": 27,
     "metadata": {},
     "output_type": "execute_result"
    }
   ],
   "source": [
    "df_filtered.columns"
   ]
  },
  {
   "cell_type": "code",
   "execution_count": 28,
   "metadata": {},
   "outputs": [],
   "source": [
    "# Remove specific columns\n",
    "columns_to_remove = ['year', 'hname','aname']  # Replace with your column names\n",
    "df_filtered = df_filtered.drop(columns=columns_to_remove)\n",
    "\n",
    "\n"
   ]
  },
  {
   "cell_type": "code",
   "execution_count": 29,
   "metadata": {},
   "outputs": [
    {
     "data": {
      "text/plain": [
       "Index(['hgoals', 'agoals', 'hPossesion', 'aPossesion', 'hshotsOnTarget',\n",
       "       'ashotsOnTarget', 'hshots', 'ashots', 'hyellowCards', 'ayellowCards',\n",
       "       'hredCards', 'aredCards', 'hfouls', 'afouls', 'hsaves', 'asaves'],\n",
       "      dtype='object')"
      ]
     },
     "execution_count": 29,
     "metadata": {},
     "output_type": "execute_result"
    }
   ],
   "source": [
    "df_filtered.columns"
   ]
  },
  {
   "cell_type": "code",
   "execution_count": 30,
   "metadata": {},
   "outputs": [
    {
     "name": "stdout",
     "output_type": "stream",
     "text": [
      "\n",
      "DataFrame after adding 'is_draw' column:\n",
      "     hgoals  agoals  hPossesion  aPossesion  hshotsOnTarget  ashotsOnTarget  \\\n",
      "202       1       2          50          50               8               3   \n",
      "203       1       0          61          39               8               5   \n",
      "204       0       0          41          59               6               7   \n",
      "205       2       1          52          48               6               2   \n",
      "206       0       0          54          46               9               4   \n",
      "\n",
      "     hshots  ashots  hyellowCards  ayellowCards  hredCards  aredCards  hfouls  \\\n",
      "202      18       5             2             3          0          0      15   \n",
      "203      16       8             3             5          0          1      10   \n",
      "204      10      18             3             5          1          0      22   \n",
      "205      16       6             2             3          0          0      16   \n",
      "206      10       8             2             4          0          0      10   \n",
      "\n",
      "     afouls  hsaves  asaves  is_draw  \n",
      "202      18       2       6        1  \n",
      "203      19       5       9        1  \n",
      "204      15       9       5        0  \n",
      "205      18       2       8        1  \n",
      "206      13       7       6        0  \n",
      "\n",
      "DataFrame after removing 'hgoals' and 'agoals' columns:\n",
      "     hPossesion  aPossesion  hshotsOnTarget  ashotsOnTarget  hshots  ashots  \\\n",
      "202          50          50               8               3      18       5   \n",
      "203          61          39               8               5      16       8   \n",
      "204          41          59               6               7      10      18   \n",
      "205          52          48               6               2      16       6   \n",
      "206          54          46               9               4      10       8   \n",
      "\n",
      "     hyellowCards  ayellowCards  hredCards  aredCards  hfouls  afouls  hsaves  \\\n",
      "202             2             3          0          0      15      18       2   \n",
      "203             3             5          0          1      10      19       5   \n",
      "204             3             5          1          0      22      15       9   \n",
      "205             2             3          0          0      16      18       2   \n",
      "206             2             4          0          0      10      13       7   \n",
      "\n",
      "     asaves  is_draw  \n",
      "202       6        1  \n",
      "203       9        1  \n",
      "204       5        0  \n",
      "205       8        1  \n",
      "206       6        0  \n"
     ]
    }
   ],
   "source": [
    "# Step 1: Create a new column for draws\n",
    "df_filtered['is_draw'] = (df_filtered['hgoals'] != df_filtered['agoals']).astype(int)  # 0 for draw, 1 for not a draw\n",
    "\n",
    "# Display the DataFrame with the new column\n",
    "print(\"\\nDataFrame after adding 'is_draw' column:\")\n",
    "print(df_filtered.head())\n",
    "\n",
    "# Step 2: Remove the 'hgoals' and 'agoals' columns\n",
    "df_filtered = df_filtered.drop(columns=['hgoals', 'agoals'])\n",
    "\n",
    "# Display the final DataFrame\n",
    "print(\"\\nDataFrame after removing 'hgoals' and 'agoals' columns:\")\n",
    "print(df_filtered.head())\n"
   ]
  },
  {
   "cell_type": "code",
   "execution_count": 31,
   "metadata": {},
   "outputs": [
    {
     "data": {
      "text/plain": [
       "(1195, 15)"
      ]
     },
     "execution_count": 31,
     "metadata": {},
     "output_type": "execute_result"
    }
   ],
   "source": [
    "df_filtered.shape"
   ]
  },
  {
   "cell_type": "code",
   "execution_count": 32,
   "metadata": {},
   "outputs": [],
   "source": [
    "import pandas as pd\n",
    "from sklearn.model_selection import train_test_split\n",
    "from sklearn.linear_model import LogisticRegression\n",
    "from sklearn.metrics import accuracy_score, classification_report"
   ]
  },
  {
   "cell_type": "code",
   "execution_count": 33,
   "metadata": {},
   "outputs": [],
   "source": [
    "finaldf = df_filtered.copy()"
   ]
  },
  {
   "cell_type": "code",
   "execution_count": 34,
   "metadata": {},
   "outputs": [],
   "source": [
    "from sklearn.preprocessing import StandardScaler\n",
    "\n",
    "X = finaldf.drop(columns=['is_draw'])\n",
    "y = finaldf['is_draw']\n",
    "X = X.fillna(0)\n",
    "# Step 1: Apply scaling to the feature columns\n",
    "scaler = StandardScaler()  # You can also use MinMaxScaler() for normalization\n",
    "X_scaled = scaler.fit_transform(X)\n",
    "\n",
    "\n",
    "\n",
    "\n",
    "X_train, X_test, y_train, y_test = train_test_split(X, y, test_size=0.2, random_state=42)\n",
    "\n"
   ]
  },
  {
   "cell_type": "code",
   "execution_count": 35,
   "metadata": {},
   "outputs": [
    {
     "name": "stdout",
     "output_type": "stream",
     "text": [
      "Accuracy: 0.81\n",
      "\n",
      "Classification Report:\n",
      "              precision    recall  f1-score   support\n",
      "\n",
      "           0       1.00      0.02      0.04        46\n",
      "           1       0.81      1.00      0.90       193\n",
      "\n",
      "    accuracy                           0.81       239\n",
      "   macro avg       0.91      0.51      0.47       239\n",
      "weighted avg       0.85      0.81      0.73       239\n",
      "\n"
     ]
    }
   ],
   "source": [
    "# Train the Logistic Regression model\n",
    "model = LogisticRegression(max_iter=500)\n",
    "model.fit(X_train, y_train)\n",
    "\n",
    "# Make predictions on the test set\n",
    "y_pred = model.predict(X_test)\n",
    "\n",
    "# Evaluate the model\n",
    "accuracy = accuracy_score(y_test, y_pred)\n",
    "print(f\"Accuracy: {accuracy:.2f}\")\n",
    "\n",
    "print(\"\\nClassification Report:\")\n",
    "print(classification_report(y_test, y_pred))"
   ]
  }
 ],
 "metadata": {
  "kernelspec": {
   "display_name": "Python 3",
   "language": "python",
   "name": "python3"
  },
  "language_info": {
   "codemirror_mode": {
    "name": "ipython",
    "version": 3
   },
   "file_extension": ".py",
   "mimetype": "text/x-python",
   "name": "python",
   "nbconvert_exporter": "python",
   "pygments_lexer": "ipython3",
   "version": "3.12.0"
  }
 },
 "nbformat": 4,
 "nbformat_minor": 2
}
